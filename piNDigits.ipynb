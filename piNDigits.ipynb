{
 "cells": [
  {
   "cell_type": "code",
   "execution_count": 3,
   "id": "16fbb5fa",
   "metadata": {},
   "outputs": [],
   "source": [
    "#IMPORTING THE REQUIRED MODULES\n",
    "'''\n",
    "Math provides fast square rooting\n",
    "Decimal gives the Decimal data type which is much better than Float\n",
    "sys is needed to set the depth for recursion.\n",
    "'''\n",
    "from __future__ import print_function\n",
    "import math, sys\n",
    "from decimal import *\n",
    "getcontext().rounding = ROUND_FLOOR\n",
    "sys.setrecursionlimit(100000)\n",
    "import time"
   ]
  },
  {
   "cell_type": "code",
   "execution_count": 4,
   "id": "a3f22a25",
   "metadata": {},
   "outputs": [],
   "source": [
    "'''\n",
    "This function accepts digits in integer . If an user attempts to enter anything other than a digit, he will be prompted to enter again.\n",
    "Since we are keeping a limit on the number of digits to be calculated at 100000, any user input greater than 100000 will not be taken.\n",
    "'''\n",
    "def take_digits():\n",
    "    while True:\n",
    "        k= int(input('Enter the number of digits that you would like:'))\n",
    "        try:\n",
    "            if k>10000:\n",
    "                print('Enter digits less than 100000')\n",
    "            elif k>0:\n",
    "                return k\n",
    "                break\n",
    "            else:\n",
    "                print('Enter a non negative integer')\n",
    "        except ValueError:\n",
    "            print('Enter a non negative integer')"
   ]
  },
  {
   "cell_type": "code",
   "execution_count": 5,
   "id": "c347e7e9",
   "metadata": {},
   "outputs": [],
   "source": [
    "'''\n",
    " Here we have applied the Chudnovsky algoritm which appears to be the best case approach for calculating pi up to the nth digit\n",
    " This function iterates through the value k times, which is equal to the number of decimal digits of pi that we require\n",
    "    k iterations gives k-1 decimal places.. \n",
    "    Since we need k decimal places make iterations equal to k+1\n",
    "'''\n",
    "def chudnovsky(k):\n",
    "    k = k+1\n",
    "    getcontext().prec = k\n",
    "    sum=0\n",
    "    for k in range(k):\n",
    "        first = factorial(6*k)*(13591409+545140134*k)\n",
    "        down = factorial(3*k)*(factorial(k))**3*(640320**(3*k))\n",
    "        sum += first/down \n",
    "    return Decimal(sum)"
   ]
  },
  {
   "cell_type": "code",
   "execution_count": 6,
   "id": "15514a36",
   "metadata": {},
   "outputs": [],
   "source": [
    "def factorial(n):\n",
    "\n",
    "    if not n:\n",
    "        return 1\n",
    "    return n*factorial(n-1)"
   ]
  },
  {
   "cell_type": "code",
   "execution_count": 7,
   "id": "01f4ba58",
   "metadata": {},
   "outputs": [],
   "source": [
    "'''\n",
    "Calculates the value of pi using the iterated value that we calculated earlier using Chudnovsky algorithm\n",
    "'''\n",
    "def pivalue(k):\n",
    "    itervalue = chudnovsky(k)\n",
    "    up = 426880*math.sqrt(10005)\n",
    "    pi = Decimal(up)/ itervalue\n",
    "    return pi"
   ]
  },
  {
   "cell_type": "code",
   "execution_count": 10,
   "id": "5ca2f9ad",
   "metadata": {},
   "outputs": [
    {
     "name": "stdout",
     "output_type": "stream",
     "text": [
      "Enter the number of digits that you would like:30\n",
      "\u001b[1mThe value of pi up to 30 digits is:\u001b[0m\n",
      "3.141592653589674961834447252394\n",
      "The program was executed in 0.0020008087158203125 seconds\n"
     ]
    }
   ],
   "source": [
    "if __name__=='__main__':\n",
    "    digits = take_digits()\n",
    "    start_time = time.time()\n",
    "    pi_calc = (pivalue(digits))\n",
    "    print(\"\\033[1m\"+ f'The value of pi up to {digits} digits is:' + \"\\033[0m\")\n",
    "    print(pi_calc)\n",
    "    end_time = time.time() - start_time\n",
    "    print(f'The program was executed in {end_time} seconds')"
   ]
  }
 ],
 "metadata": {
  "kernelspec": {
   "display_name": "Python 3",
   "language": "python",
   "name": "python3"
  },
  "language_info": {
   "codemirror_mode": {
    "name": "ipython",
    "version": 3
   },
   "file_extension": ".py",
   "mimetype": "text/x-python",
   "name": "python",
   "nbconvert_exporter": "python",
   "pygments_lexer": "ipython3",
   "version": "3.8.8"
  }
 },
 "nbformat": 4,
 "nbformat_minor": 5
}
